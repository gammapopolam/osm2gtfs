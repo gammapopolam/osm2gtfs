{
 "cells": [
  {
   "cell_type": "code",
   "execution_count": 1,
   "metadata": {},
   "outputs": [
    {
     "name": "stderr",
     "output_type": "stream",
     "text": [
      "Appending trips and stop_times: 100%|###############################| 74/74 [00:29<00:00,  2.51it/s]\n"
     ]
    }
   ],
   "source": [
    "from osm2gtfs import OSM2GTFS\n",
    "\n",
    "tram=OSM2GTFS(trips_f=r\"D:\\capitals_accessibility\\ru_mow_osmgrabber\\tram_trips.json\", \n",
    "            stops_f=r\"D:\\capitals_accessibility\\ru_mow_osmgrabber\\tram_stops.json\", \n",
    "            s2s_f=r\"D:\\capitals_accessibility\\ru_mow_osmgrabber\\tram_s2s.json\", \n",
    "            type='tram', speed=25)\n",
    "tram.add_stops()\n",
    "tram.add_trips()\n",
    "tram.add_routes()\n",
    "tram.export(gtfs_dir=r\"D:\\capitals_accessibility\\gtfs_base_tram\")"
   ]
  },
  {
   "cell_type": "code",
   "execution_count": 4,
   "metadata": {},
   "outputs": [
    {
     "name": "stderr",
     "output_type": "stream",
     "text": [
      "Appending trips and stop_times: 100%|#########################| 1799/1799 [2:16:57<00:00,  4.57s/it]\n"
     ]
    }
   ],
   "source": [
    "from osm2gtfs import OSM2GTFS\n",
    "\n",
    "bus=OSM2GTFS(trips_f=r\"D:\\capitals_accessibility\\ru_mow_osmgrabber\\bus_trips.json\", \n",
    "            stops_f=r\"D:\\capitals_accessibility\\ru_mow_osmgrabber\\bus_stops.json\", \n",
    "            s2s_f=r\"D:\\capitals_accessibility\\ru_mow_osmgrabber\\bus_s2s.json\", \n",
    "            type='bus', speed=21)\n",
    "bus.add_stops()\n",
    "bus.add_trips()\n",
    "bus.add_routes()\n",
    "bus.export(gtfs_dir=r\"D:\\capitals_accessibility\\gtfs_base_bus\")"
   ]
  },
  {
   "cell_type": "code",
   "execution_count": 2,
   "metadata": {},
   "outputs": [
    {
     "name": "stderr",
     "output_type": "stream",
     "text": [
      "Appending trips and stop_times: 100%|###############################| 32/32 [00:07<00:00,  4.01it/s]\n"
     ]
    }
   ],
   "source": [
    "subway=OSM2GTFS(trips_f=r\"D:\\capitals_accessibility\\ru_mow_osmgrabber\\subway_trips.json\", \n",
    "            stops_f=r\"D:\\capitals_accessibility\\ru_mow_osmgrabber\\subway_stops.json\", \n",
    "            s2s_f=r\"D:\\capitals_accessibility\\ru_mow_osmgrabber\\subway_s2s.json\", \n",
    "            type='subway', speed=35)\n",
    "subway.add_stops()\n",
    "subway.add_trips()\n",
    "subway.add_routes()\n",
    "subway.export(gtfs_dir=r\"D:\\capitals_accessibility\\gtfs_base_subway\")"
   ]
  },
  {
   "cell_type": "code",
   "execution_count": 3,
   "metadata": {},
   "outputs": [
    {
     "name": "stderr",
     "output_type": "stream",
     "text": [
      "Appending trips and stop_times: 100%|###############################| 10/10 [00:07<00:00,  1.33it/s]\n"
     ]
    }
   ],
   "source": [
    "comm=OSM2GTFS(trips_f=r\"D:\\capitals_accessibility\\ru_mow_osmgrabber\\commuter_trips.json\", \n",
    "            stops_f=r\"D:\\capitals_accessibility\\ru_mow_osmgrabber\\commuter_stops.json\", \n",
    "            s2s_f=r\"D:\\capitals_accessibility\\ru_mow_osmgrabber\\commuter_s2s.json\", \n",
    "            type='commuter', speed=35)\n",
    "comm.add_stops()\n",
    "comm.add_trips()\n",
    "comm.add_routes()\n",
    "comm.export(gtfs_dir=r\"D:\\capitals_accessibility\\gtfs_base_comm\")"
   ]
  },
  {
   "cell_type": "code",
   "execution_count": 3,
   "metadata": {},
   "outputs": [
    {
     "name": "stderr",
     "output_type": "stream",
     "text": [
      "<>:3: SyntaxWarning: invalid escape sequence '\\c'\n",
      "<>:4: SyntaxWarning: invalid escape sequence '\\c'\n",
      "<>:5: SyntaxWarning: invalid escape sequence '\\c'\n",
      "<>:6: SyntaxWarning: invalid escape sequence '\\c'\n",
      "<>:3: SyntaxWarning: invalid escape sequence '\\c'\n",
      "<>:4: SyntaxWarning: invalid escape sequence '\\c'\n",
      "<>:5: SyntaxWarning: invalid escape sequence '\\c'\n",
      "<>:6: SyntaxWarning: invalid escape sequence '\\c'\n",
      "C:\\Users\\gamma\\AppData\\Local\\Temp\\ipykernel_19444\\2447669085.py:3: SyntaxWarning: invalid escape sequence '\\c'\n",
      "  tram_feed = GTFS_Dataset('D:\\capitals_accessibility\\gtfs_base_tram')\n",
      "C:\\Users\\gamma\\AppData\\Local\\Temp\\ipykernel_19444\\2447669085.py:4: SyntaxWarning: invalid escape sequence '\\c'\n",
      "  metro_feed = GTFS_Dataset('D:\\capitals_accessibility\\gtfs_base_subway')\n",
      "C:\\Users\\gamma\\AppData\\Local\\Temp\\ipykernel_19444\\2447669085.py:5: SyntaxWarning: invalid escape sequence '\\c'\n",
      "  commuter_feed = GTFS_Dataset('D:\\capitals_accessibility\\gtfs_base_comm')\n",
      "C:\\Users\\gamma\\AppData\\Local\\Temp\\ipykernel_19444\\2447669085.py:6: SyntaxWarning: invalid escape sequence '\\c'\n",
      "  bus_feed = GTFS_Dataset('D:\\capitals_accessibility\\gtfs_base_bus')\n"
     ]
    },
    {
     "name": "stdout",
     "output_type": "stream",
     "text": [
      "Combined GTFS saved in ru-mow\n"
     ]
    }
   ],
   "source": [
    "from osm2gtfs import GTFS_Dataset, combine_gtfs_datasets\n",
    "\n",
    "tram_feed = GTFS_Dataset('D:\\capitals_accessibility\\gtfs_base_tram')\n",
    "metro_feed = GTFS_Dataset('D:\\capitals_accessibility\\gtfs_base_subway')\n",
    "commuter_feed = GTFS_Dataset('D:\\capitals_accessibility\\gtfs_base_comm')\n",
    "bus_feed = GTFS_Dataset('D:\\capitals_accessibility\\gtfs_base_bus')\n",
    "\n",
    "combine_gtfs_datasets([tram_feed, metro_feed, commuter_feed, bus_feed], 'ru-mow')\n"
   ]
  },
  {
   "cell_type": "code",
   "execution_count": null,
   "metadata": {},
   "outputs": [],
   "source": []
  }
 ],
 "metadata": {
  "kernelspec": {
   "display_name": "Python 3",
   "language": "python",
   "name": "python3"
  },
  "language_info": {
   "codemirror_mode": {
    "name": "ipython",
    "version": 3
   },
   "file_extension": ".py",
   "mimetype": "text/x-python",
   "name": "python",
   "nbconvert_exporter": "python",
   "pygments_lexer": "ipython3",
   "version": "3.12.1"
  }
 },
 "nbformat": 4,
 "nbformat_minor": 2
}
