{
 "cells": [
  {
   "cell_type": "code",
   "execution_count": 1,
   "metadata": {},
   "outputs": [
    {
     "name": "stderr",
     "output_type": "stream",
     "text": [
      "Appending trips and stop_times: 100%|###############################| 74/74 [00:27<00:00,  2.65it/s]\n"
     ]
    }
   ],
   "source": [
    "from osm2gtfs import OSM2GTFS\n",
    "\n",
    "tram=OSM2GTFS(trips_f=r\"D:\\capitals_accessibility\\ru_mow_osmgrabber\\tram_trips.json\", \n",
    "            stops_f=r\"D:\\capitals_accessibility\\ru_mow_osmgrabber\\tram_stops.json\", \n",
    "            s2s_f=r\"D:\\capitals_accessibility\\ru_mow_osmgrabber\\tram_s2s.json\", \n",
    "            type='tram', speed=25)\n",
    "tram.add_stops()\n",
    "tram.add_trips()\n",
    "tram.add_routes()\n",
    "tram.export(gtfs_dir=r\"D:\\capitals_accessibility\\gtfs_base_tram\")"
   ]
  },
  {
   "cell_type": "code",
   "execution_count": null,
   "metadata": {},
   "outputs": [],
   "source": [
    "from osm2gtfs import OSM2GTFS\n",
    "\n",
    "bus=OSM2GTFS(trips_f=r\"D:\\capitals_accessibility\\ru_mow_osmgrabber\\bus_trips.json\", \n",
    "            stops_f=r\"D:\\capitals_accessibility\\ru_mow_osmgrabber\\bus_stops.json\", \n",
    "            s2s_f=r\"D:\\capitals_accessibility\\ru_mow_osmgrabber\\bus_s2s.json\", \n",
    "            type='bus', speed=21)\n",
    "bus.add_stops()\n",
    "bus.add_trips()\n",
    "bus.add_routes()\n",
    "bus.export(gtfs_dir=r\"D:\\capitals_accessibility\\gtfs_base_bus\")"
   ]
  }
 ],
 "metadata": {
  "kernelspec": {
   "display_name": "Python 3",
   "language": "python",
   "name": "python3"
  },
  "language_info": {
   "codemirror_mode": {
    "name": "ipython",
    "version": 3
   },
   "file_extension": ".py",
   "mimetype": "text/x-python",
   "name": "python",
   "nbconvert_exporter": "python",
   "pygments_lexer": "ipython3",
   "version": "3.12.1"
  }
 },
 "nbformat": 4,
 "nbformat_minor": 2
}
